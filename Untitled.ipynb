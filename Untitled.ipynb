{
 "cells": [
  {
   "cell_type": "code",
   "execution_count": null,
   "id": "242c7027",
   "metadata": {},
   "outputs": [],
   "source": [
    "pip install ipython"
   ]
  },
  {
   "cell_type": "code",
   "execution_count": null,
   "id": "b38a1bbd",
   "metadata": {},
   "outputs": [],
   "source": [
    "pip install selenium"
   ]
  },
  {
   "cell_type": "code",
   "execution_count": null,
   "id": "df698ba5",
   "metadata": {},
   "outputs": [],
   "source": [
    "pip install beautifulsoup4"
   ]
  },
  {
   "cell_type": "code",
   "execution_count": null,
   "id": "a70ff176",
   "metadata": {},
   "outputs": [],
   "source": [
    "pip install msedge-selenium-tools selenium==3.141"
   ]
  },
  {
   "cell_type": "code",
   "execution_count": null,
   "id": "27649ffc",
   "metadata": {},
   "outputs": [],
   "source": [
    "pip install webdriver-manager"
   ]
  },
  {
   "cell_type": "code",
   "execution_count": null,
   "id": "f7d9551f",
   "metadata": {},
   "outputs": [],
   "source": [
    "pip install requests"
   ]
  },
  {
   "cell_type": "code",
   "execution_count": null,
   "id": "7be67a03",
   "metadata": {},
   "outputs": [],
   "source": [
    "pip install time"
   ]
  },
  {
   "cell_type": "code",
   "execution_count": null,
   "id": "067392e7",
   "metadata": {},
   "outputs": [],
   "source": [
    "pip install parsel"
   ]
  },
  {
   "cell_type": "code",
   "execution_count": null,
   "id": "31ebe4e3",
   "metadata": {},
   "outputs": [],
   "source": [
    "pip install csv"
   ]
  },
  {
   "cell_type": "code",
   "execution_count": null,
   "id": "4e14f0d4",
   "metadata": {},
   "outputs": [],
   "source": [
    "pip install pandas"
   ]
  },
  {
   "cell_type": "code",
   "execution_count": null,
   "id": "ed7cf3ac",
   "metadata": {},
   "outputs": [],
   "source": [
    "pip install pyxll"
   ]
  },
  {
   "cell_type": "code",
   "execution_count": null,
   "id": "150d9691",
   "metadata": {},
   "outputs": [],
   "source": [
    "import time\n",
    "import re\n",
    "from selenium import webdriver\n",
    "from selenium.webdriver.common.keys import Keys\n",
    "import bs4\n",
    "from bs4 import BeautifulSoup\n",
    "import requests\n",
    "import pandas as pd\n",
    "from pandas import DataFrame\n",
    "import csv\n",
    "import random\n",
    "from selenium.webdriver.chrome.service import Service\n",
    "from selenium.webdriver.support import expected_conditions as EC\n",
    "from selenium.webdriver.support.ui import WebDriverWait\n",
    "from selenium.webdriver.opera.options import Options\n",
    "from selenium.webdriver.chrome.options import Options\n",
    "from selenium.webdriver.common.by import By\n",
    "from selenium.webdriver.support.wait import WebDriverWait\n",
    "from selenium.common.exceptions import TimeoutException\n",
    "from time import sleep\n",
    "from msedge.selenium_tools import Edge, EdgeOptions"
   ]
  },
  {
   "cell_type": "code",
   "execution_count": null,
   "id": "6acadfb2",
   "metadata": {},
   "outputs": [],
   "source": [
    "browser = webdriver.Chrome('D:/chromedriver_win32/chromedriver.exe')\n",
    "browser.get('https://www.linkedin.com/login?fromSignIn=true&trk=guest_homepage-basic_nav-header-signin')\n",
    "browser.maximize_window()\n",
    "#Enter login info:\n",
    "elementID = browser.find_element_by_id('username')\n",
    "elementID.send_keys('LinkedIn Login Email')\n",
    "elementID = browser.find_element_by_id('password')\n",
    "elementID.send_keys('LinkedIn Password')\n",
    "elementID.submit()"
   ]
  },
  {
   "cell_type": "code",
   "execution_count": null,
   "id": "399a1208",
   "metadata": {},
   "outputs": [],
   "source": [
    "contact_link = []\n",
    "contact_name = []\n",
    "contact_job_title = []\n",
    "contact_location = []"
   ]
  },
  {
   "cell_type": "code",
   "execution_count": null,
   "id": "07a65e95",
   "metadata": {},
   "outputs": [],
   "source": [
    "n_pages = 31\n",
    "for n in range(1,n_pages):\n",
    "    browser.get(\"https://www.linkedin.com/search/results/people/?geoUrn=%5B%22102713980%22%5D&network=%5B%22F%22%5D&origin=FACETED_SEARCH&sid=L9P&page=\" + str(n))\n",
    "    time.sleep(3)\n",
    "    lenOfPage = browser.execute_script(\"window.scrollTo(0, document.body.scrollHeight);var lenOfPage=document.body.scrollHeight;return lenOfPage;\")\n",
    "    match=False\n",
    "    while(match == False):\n",
    "        lastCount = lenOfPage\n",
    "        time.sleep(3)\n",
    "        lenOfPage = browser.execute_script(\"window.scrollTo(0, document.body.scrollHeight);var lenOfPage=document.body.scrollHeight;return lenOfPage;\")\n",
    "        if lastCount==lenOfPage:\n",
    "            match=True\n",
    "    time.sleep(2)\n",
    "    soup = BeautifulSoup(browser.page_source,\"html.parser\")\n",
    "    soup_link = soup.findAll(\"div\", attrs={\"class\":'entity-result__content entity-result__divider pt3 pb3 t-12 t-black--light'})\n",
    "    for x in range(len(soup_link)):\n",
    "        ct_link = soup_link[x].find('a', { \"class\": \"app-aware-link\" })\n",
    "        contact_link.append(ct_link['href'])\n",
    "        #print(ct_link.text.strip())\n",
    "\n",
    "        soup_name = soup_link[x].find('span', { \"class\":\"entity-result__title-text t-16\" })\n",
    "        contact_name.append(soup_name.text.strip())\n",
    "        #print(soup_name.text.strip())\n",
    "\n",
    "        soup_job_title = soup_link[x].find('div', { \"class\": \"entity-result__primary-subtitle t-14 t-black t-normal\" })\n",
    "        if soup_job_title==None:\n",
    "            contact_job_title.append(\"Not Available\")\n",
    "        else:\n",
    "            contact_job_title.append(soup_job_title.text.strip())\n",
    "        #print(soup_job_title.text.strip())\n",
    "\n",
    "        soup_location = soup_link[x].find('div', { \"class\": \"entity-result__secondary-subtitle t-14 t-normal\" })\n",
    "        if soup_location==None:\n",
    "            contact_location.append(\"Not AVailable\")\n",
    "        else:\n",
    "            contact_location.append(soup_location.text.strip())\n",
    "        time.sleep(2)\n",
    "        #print(soup_location.text.strip())"
   ]
  },
  {
   "cell_type": "code",
   "execution_count": null,
   "id": "4f190fe9",
   "metadata": {},
   "outputs": [],
   "source": [
    "data = {'link': contact_link,'name':contact_name,'job_title':contact_job_title,'location':contact_location}"
   ]
  },
  {
   "cell_type": "code",
   "execution_count": null,
   "id": "9ea588ba",
   "metadata": {},
   "outputs": [],
   "source": [
    "print ([len(v) for v in data.values()])"
   ]
  },
  {
   "cell_type": "code",
   "execution_count": null,
   "id": "766a55d5",
   "metadata": {},
   "outputs": [],
   "source": [
    "df = DataFrame(data, columns = ['link','name','job_title','location'])"
   ]
  },
  {
   "cell_type": "code",
   "execution_count": null,
   "id": "7c1414c2",
   "metadata": {},
   "outputs": [],
   "source": [
    "df.to_csv('LinkedIn Data.csv')"
   ]
  },
  {
   "cell_type": "code",
   "execution_count": null,
   "id": "8efe5dab",
   "metadata": {},
   "outputs": [],
   "source": []
  }
 ],
 "metadata": {
  "kernelspec": {
   "display_name": "Python 3 (ipykernel)",
   "language": "python",
   "name": "python3"
  },
  "language_info": {
   "codemirror_mode": {
    "name": "ipython",
    "version": 3
   },
   "file_extension": ".py",
   "mimetype": "text/x-python",
   "name": "python",
   "nbconvert_exporter": "python",
   "pygments_lexer": "ipython3",
   "version": "3.9.7"
  }
 },
 "nbformat": 4,
 "nbformat_minor": 5
}
